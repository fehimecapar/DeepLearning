{
  "cells": [
    {
      "cell_type": "markdown",
      "metadata": {
        "id": "view-in-github",
        "colab_type": "text"
      },
      "source": [
        "<a href=\"https://colab.research.google.com/github/fehimecapar/DeepLearning/blob/main/machine_learning.ipynb\" target=\"_parent\"><img src=\"https://colab.research.google.com/assets/colab-badge.svg\" alt=\"Open In Colab\"/></a>"
      ]
    },
    {
      "cell_type": "markdown",
      "metadata": {
        "id": "gsqKM5DLlLRm"
      },
      "source": [
        "# Task 2 – MLP, Learning rate, Overfitting, and Hyper-parameters."
      ]
    },
    {
      "cell_type": "markdown",
      "metadata": {
        "id": "0Y6CxL6eC2Og"
      },
      "source": [
        "### <span style=\"color:red\">Deadline Tuesday, June 3, 2025 at 11:59 p.m<span>"
      ]
    },
    {
      "cell_type": "markdown",
      "metadata": {
        "id": "eaoMWjbZdCLf"
      },
      "source": [
        "# IMPORTANT SUBMISSION INSTRUCTIONS\n",
        "\n",
        "- When you're done, download the notebook and rename it to task02_[name].ipynb\n",
        "- Only submit the ipynb file, no other file is required.\n",
        "- The deadline is strict.\n",
        "- Minimal requirement for passing: solving all code cells.\n",
        "\n",
        "Implementation\n",
        "- Do not change the cells which are marked as \"Do not change\", similarly write your solution to the marked cells. Do not create additional cells."
      ]
    },
    {
      "cell_type": "markdown",
      "metadata": {
        "id": "A8RW2QHHFQYe"
      },
      "source": [
        "# Introduction\n",
        "\n",
        "In this task you will implement an MLP model for virtual sensing using the flood dataset.\n",
        "The objectives are:\n",
        "- Implementing an MLP model via TensorFlow Functional API.\n",
        "- Getting more familiar with model fitting and overfitting.\n",
        "- Implementing early stopping.\n",
        "- Exploring hyperparameters and their influence.\n",
        "- Selecting model architecture."
      ]
    },
    {
      "cell_type": "markdown",
      "metadata": {
        "id": "Dhw-7EA-10Xm"
      },
      "source": [
        "## Tutorials\n",
        "\n",
        "Some python libraries are required to accomplish the tasks assigned in this homework. If you feel like you need to follow a tutorial before, feel free to do so:"
      ]
    },
    {
      "cell_type": "markdown",
      "metadata": {
        "id": "VMyEloGz__BZ"
      },
      "source": [
        "*   [Scikit-learn Tutorials](https://www.tensorflow.org/tutorials)\n",
        "*   [TensorFlow Tutorials](https://scikit-learn.org/stable/tutorial/index.html)\n",
        "*   [Matplotlib Tutorials](https://matplotlib.org/stable/tutorials/index.html)"
      ]
    },
    {
      "cell_type": "markdown",
      "metadata": {
        "id": "ActTWMg4XZ5v"
      },
      "source": [
        "## Imports"
      ]
    },
    {
      "cell_type": "code",
      "execution_count": 84,
      "metadata": {
        "id": "LArjND15dGNh"
      },
      "outputs": [],
      "source": [
        "import numpy as np\n",
        "import random\n",
        "import pandas as pd\n",
        "import tensorflow as tf\n",
        "from tensorflow.keras import models, layers, optimizers, losses, callbacks, Input\n",
        "\n",
        "import matplotlib.pyplot as plt\n",
        "import seaborn as sns\n",
        "\n",
        "SEED = 24\n",
        "random.seed(SEED)\n",
        "np.random.seed(SEED)\n",
        "tf.random.set_seed(SEED)"
      ]
    },
    {
      "cell_type": "markdown",
      "metadata": {
        "id": "gpqN-O0F_atv"
      },
      "source": [
        "## System checks\n"
      ]
    },
    {
      "cell_type": "code",
      "execution_count": 74,
      "metadata": {
        "colab": {
          "base_uri": "https://localhost:8080/"
        },
        "id": "b1r5yPHY_hsl",
        "outputId": "69abeb9a-3fb8-45c8-b169-9596d073460b"
      },
      "outputs": [
        {
          "output_type": "stream",
          "name": "stdout",
          "text": [
            "[PhysicalDevice(name='/physical_device:GPU:0', device_type='GPU')]\n",
            "[PhysicalDevice(name='/physical_device:CPU:0', device_type='CPU')]\n"
          ]
        }
      ],
      "source": [
        "gpus = tf.config.list_physical_devices('GPU')\n",
        "cpus = tf.config.list_physical_devices('CPU')\n",
        "print(gpus)\n",
        "print(cpus)"
      ]
    },
    {
      "cell_type": "markdown",
      "metadata": {
        "id": "6900WHTvC2Oq"
      },
      "source": [
        "Choose your device for computation. CPU or one of your CUDA devices"
      ]
    },
    {
      "cell_type": "code",
      "execution_count": 75,
      "metadata": {
        "id": "MMCbCpAFao6q"
      },
      "outputs": [],
      "source": [
        "tf.config.set_visible_devices(gpus, 'GPU')"
      ]
    },
    {
      "cell_type": "markdown",
      "metadata": {
        "id": "266Jdm74C2Or"
      },
      "source": [
        "# Subtask 2.1\n",
        "\n",
        "## Backpropagation – Chain Rule\n",
        "\n",
        "### Model\n",
        "Let us assume an MLP with one hidden layer containing one neuron with `sigmoid` function ($S(x) = 1 / (1 + e^{-x})$) as the activation function. The input and the output dimensions are equal to one. The activation function for the input and output layers is `linear`.\n",
        "The mapping $f: x \\to \\tilde{y}$ from the input $x$ to output $\\tilde{y}$ can be written as:\n",
        "\\begin{equation}\n",
        "\\tilde{y} = f(x) = w_2 S(w_1 x)\n",
        "\\end{equation}\n",
        "where $w_1$ and $w_2$ are the weights of the model. Note that we do not have bias for this example. Let us consider mean-squared error as the loss function. The loss $\\ell$ can be obtained as:\n",
        "\\begin{equation}\n",
        "\\ell = (y - \\tilde{y})^2 = (y - w_2 S(w_1 x))^2\n",
        "\\end{equation}\n",
        "where $y$ denotes the reference label. Let's initialize the weights as $w_1 = 0.1$ and $w_2 = 0.1$.\n",
        "\n",
        "### Data\n",
        "\n",
        "Let's assume we have a data set containing three samples as: $x = [1.0, 2.0, 3.0]^{T}$ and $y = [1.0, 4.0, 9.0]^{T}$.\n",
        "\n",
        "#### TODO\n",
        " - Perform gradient descent by hand with a learning rate of 0.1. Train the model for 1 epoch with the batch size of 1.\n",
        " - Report the prediction $\\tilde{y}$, loss, gradients, and the updated weights at every iteration."
      ]
    },
    {
      "cell_type": "markdown",
      "metadata": {
        "id": "R12dNNXRC2Os"
      },
      "source": [
        "<span style='color:red'>**Your answer:**</span>\n",
        "\n",
        "..."
      ]
    },
    {
      "cell_type": "markdown",
      "metadata": {
        "id": "8uCghpErC2Os"
      },
      "source": [
        "#### TODO\n",
        "- Define two functions that compute the gradients of the loss with respect to $w_1$ and $w_2$ using analytical differentiation and chain rule.\n",
        "- Use the functions you defined and train the model again using gradient descent and the same learning rate.\n",
        "- Report the prediction $\\tilde{y}$, loss, gradients, and the updated weights at every iteration."
      ]
    },
    {
      "cell_type": "code",
      "execution_count": 76,
      "metadata": {
        "colab": {
          "base_uri": "https://localhost:8080/"
        },
        "id": "Dm6JCJEYC2Os",
        "outputId": "7bfcfae3-eafb-40ea-bbae-89231504b071"
      },
      "outputs": [
        {
          "output_type": "stream",
          "name": "stdout",
          "text": [
            "value 1\n",
            "x = 1.0, y = 1.0\n",
            "Prediction (ŷ) = 0.0525\n",
            "Loss = 0.8978\n",
            "Gradient w.r.t w1 = -0.0473, w2 = -0.9948\n",
            "Updated w1 = 0.1047, w2 = 0.1995\n",
            "----------------------------------------\n",
            "value 2\n",
            "x = 2.0, y = 4.0\n",
            "Prediction (ŷ) = 0.1101\n",
            "Loss = 15.1309\n",
            "Gradient w.r.t w1 = -0.7675, w2 = -4.2957\n",
            "Updated w1 = 0.1815, w2 = 0.6291\n",
            "----------------------------------------\n",
            "value 3\n",
            "x = 3.0, y = 9.0\n",
            "Prediction (ŷ) = 0.3981\n",
            "Loss = 73.9928\n",
            "Gradient w.r.t w1 = -7.5437, w2 = -10.8873\n",
            "Updated w1 = 0.9358, w2 = 1.7178\n",
            "----------------------------------------\n"
          ]
        }
      ],
      "source": [
        "def sigmoid(z):\n",
        "    return 1 / (1 + np.exp(-z))\n",
        "\n",
        "def dL_dw2(x, y, w1, w2):\n",
        "    z = w1 * x\n",
        "    s = sigmoid(z)\n",
        "    y_pred = w2 * s\n",
        "    dL = -2 * (y - y_pred) * s\n",
        "    return dL\n",
        "\n",
        "def dL_dw1(x, y, w1, w2):\n",
        "    z = w1 * x\n",
        "    s = sigmoid(z)\n",
        "    y_pred = w2 * s\n",
        "    d_sigmoid = s * (1 - s)\n",
        "    dL = -2 * (y - y_pred) * w2 * d_sigmoid * x\n",
        "    return dL\n",
        "\n",
        "# default weights\n",
        "w1 = 0.1\n",
        "w2 = 0.1\n",
        "lr = 0.1\n",
        "\n",
        "# Data\n",
        "X = [1.0, 2.0, 3.0]\n",
        "Y = [1.0, 4.0, 9.0]\n",
        "\n",
        "for i in range(len(X)):\n",
        "    x = X[i]\n",
        "    y = Y[i]\n",
        "\n",
        "    z = w1 * x\n",
        "    s = sigmoid(z)\n",
        "    y_pred = w2 * s\n",
        "\n",
        "    #loss\n",
        "    loss = (y - y_pred)**2\n",
        "\n",
        "    grad_w1 = dL_dw1(x, y, w1, w2)\n",
        "    grad_w2 = dL_dw2(x, y, w1, w2)\n",
        "\n",
        "    # update weights\n",
        "    w1 -= lr * grad_w1\n",
        "    w2 -= lr * grad_w2\n",
        "\n",
        "    # show\n",
        "    print(f\"value {i+1}\")\n",
        "    print(f\"x = {x}, y = {y}\")\n",
        "    print(f\"Prediction (ŷ) = {y_pred:.4f}\")\n",
        "    print(f\"Loss = {loss:.4f}\")\n",
        "    print(f\"Gradient w.r.t w1 = {grad_w1:.4f}, w2 = {grad_w2:.4f}\")\n",
        "    print(f\"Updated w1 = {w1:.4f}, w2 = {w2:.4f}\")\n",
        "    print(\"-\" * 40)\n"
      ]
    },
    {
      "cell_type": "markdown",
      "metadata": {
        "id": "4n_8OlMBC2Os"
      },
      "source": [
        "#### TODO\n",
        "- Use automatic differentiation (AD) (`tf.GradientTape`) to compute the gradients.\n",
        "- Train the model again using the same learning rate, epoch, and batch size.\n",
        "- Report the prediction $\\tilde{y}$, loss, gradients, and the updated weights at every iteration."
      ]
    },
    {
      "cell_type": "code",
      "execution_count": 77,
      "metadata": {
        "colab": {
          "base_uri": "https://localhost:8080/"
        },
        "id": "F4tufg_GC2Os",
        "outputId": "0692890e-e4dd-4a83-b4e2-6beeb10175e4"
      },
      "outputs": [
        {
          "output_type": "stream",
          "name": "stdout",
          "text": [
            "Gradyanlar None! Kontrol et: x=1.0, y=1.0, z=0.10000000149011612, s=0.5249791741371155, y_pred=0.05249791964888573, loss=0.8977601528167725\n"
          ]
        }
      ],
      "source": [
        "# train data\n",
        "x_data = tf.constant([1.0, 2.0, 3.0])\n",
        "y_data = tf.constant([1.0, 4.0, 9.0])\n",
        "\n",
        "# weihgts (as tf.Variable)\n",
        "w1 = tf.Variable(0.1)\n",
        "w2 = tf.Variable(0.1)\n",
        "\n",
        "learning_rate = 0.1\n",
        "\n",
        "for i in range(len(x_data)):\n",
        "    x = x_data[i]\n",
        "    y = y_data[i]\n",
        "\n",
        "    with tf.GradientTape() as tape:\n",
        "        z = w1 * x\n",
        "        s = sigmoid(z)\n",
        "        y_pred = w2 * s\n",
        "        loss = (y - y_pred) ** 2\n",
        "\n",
        "    # calculate gradients\n",
        "    gradients = tape.gradient(loss, [w1, w2])\n",
        "    grad_w1, grad_w2 = gradients\n",
        "\n",
        "    # error catch\n",
        "    if grad_w1 is None or grad_w2 is None:\n",
        "        print(f\"Gradyanlar None! Kontrol et: x={x}, y={y}, z={z}, s={s}, y_pred={y_pred}, loss={loss}\")\n",
        "        break\n",
        "\n",
        "    # weights updating\n",
        "    w1.assign_sub(learning_rate * grad_w1)\n",
        "    w2.assign_sub(learning_rate * grad_w2)\n",
        "\n",
        "    # show\n",
        "    print(f\"value {i+1}\")\n",
        "    print(f\"x = {x.numpy():.1f}, y = {y.numpy():.1f}\")\n",
        "    print(f\"Prediction (ỹ) = {y_pred.numpy():.4f}\")\n",
        "    print(f\"Loss = {loss.numpy():.4f}\")\n",
        "    print(f\"Gradient w.r.t w1 = {grad_w1.numpy():.4f}, w2 = {grad_w2.numpy():.4f}\")\n",
        "    print(f\"Updated w1 = {w1.numpy():.4f}, w2 = {w2.numpy():.4f}\")\n",
        "    print(\"-\" * 40)\n"
      ]
    },
    {
      "cell_type": "markdown",
      "metadata": {
        "id": "Jc7uRzR2C2Ot"
      },
      "source": [
        "# Subtask 2.2\n",
        "\n",
        "In this task, we consider the data from **Margarethenklippe** as the input and train an MLP that gives the information about **Sennhuette** as the output. For each of the sensors, we have the water level, **W**, and the mass flow rate, **Q**, every 15 minutes.\n",
        "## Pre-processing\n",
        "\n",
        "#### TODO\n",
        " - Load the flood dataset (`Flood_Data.csv`) using *pandas* library.\n",
        " - Drop the first four columns of the DataFrame and columns containing NaNs.\n",
        " - Split the data into inputs and outputs.\n",
        " - Shuffle the data and get the NumPy arrays.\n",
        " - Split the data to 75% for training, 15% for validation, and 15% for testing.\n",
        " - Standardize inputs and outputs.\n",
        ""
      ]
    },
    {
      "cell_type": "code",
      "execution_count": 78,
      "metadata": {
        "colab": {
          "base_uri": "https://localhost:8080/"
        },
        "id": "BSsiwZRPC2Ot",
        "outputId": "67f267fd-9565-44e0-ef91-7b41994bae8c"
      },
      "outputs": [
        {
          "output_type": "stream",
          "name": "stdout",
          "text": [
            "columns: ['Datum', 'Zeit', ' GranetalsperreMin15Niederschlag', ' HahnenkleeMin15Niederschlag', ' MargarethenklippeMin15W', ' MargarethenklippeMin15Q', ' SennhuetteMin15W', ' SennhuetteMin15Q', 'Unnamed: 8']\n"
          ]
        }
      ],
      "source": [
        "# TODO load the flood dataset using pandas\n",
        "df = pd.read_csv(\"Flood_Data.csv\", sep=\";\", engine='python')\n",
        "\n",
        "print(\"columns:\", df.columns.tolist())\n",
        "\n",
        "df = df.iloc[:, 4:]\n",
        "\n",
        "df = df.dropna(axis=1)"
      ]
    },
    {
      "cell_type": "code",
      "execution_count": 79,
      "metadata": {
        "colab": {
          "base_uri": "https://localhost:8080/"
        },
        "id": "U4wnwjboC2Ot",
        "outputId": "e1cdbd0c-aa61-43e8-aa8d-92d31601f0c2"
      },
      "outputs": [
        {
          "output_type": "execute_result",
          "data": {
            "text/plain": [
              "((514176, 3), (514176,))"
            ]
          },
          "metadata": {},
          "execution_count": 79
        }
      ],
      "source": [
        "# TODO split the data into inputs X and outputs y\n",
        "X = df.iloc[:, :-1].values\n",
        "Y = df.iloc[:, -1].values\n",
        "\n",
        "N_samples = X.shape[0] # number of samples\n",
        "\n",
        "X.shape, Y.shape"
      ]
    },
    {
      "cell_type": "code",
      "execution_count": 80,
      "metadata": {
        "id": "8B2s0-FzC2Ou"
      },
      "outputs": [],
      "source": [
        "from sklearn.model_selection import train_test_split\n",
        "# TODO shuffle the data and get the NumPy arrays:\n",
        "\n",
        "indices = np.arange(len(X))\n",
        "np.random.shuffle(indices)\n",
        "X = X[indices]\n",
        "Y = Y[indices]\n",
        "\n",
        "# TODO split the data to train, validation, and test:\n",
        "X_train, X_temp, Y_train, Y_temp = train_test_split(X, Y, test_size=0.3, random_state=42)\n",
        "X_val, X_test, Y_val, Y_test = train_test_split(X_temp, Y_temp, test_size=0.5, random_state=42)"
      ]
    },
    {
      "cell_type": "markdown",
      "metadata": {
        "id": "fKh0A5tYC2Ov"
      },
      "source": [
        "Let us define a class for standardizing the data. We will implement a function that applies the scaling (`apply`) and a function that maps the scaled data back into the original scale (`apply_reverse`)."
      ]
    },
    {
      "cell_type": "code",
      "execution_count": 81,
      "metadata": {
        "id": "ss5kz19ZC2Ov"
      },
      "outputs": [],
      "source": [
        "# TODO create a class for standardizing the data.\n",
        "class Standardizer:\n",
        "    def __init__(self):\n",
        "        self.mean = None\n",
        "        self.std = None\n",
        "\n",
        "    def fit(self, data):\n",
        "        self.mean = np.mean(data, axis=0)\n",
        "        self.std = np.std(data, axis=0)\n",
        "\n",
        "    def apply(self, data):\n",
        "        return (data - self.mean) / (self.std + 1e-8)\n",
        "\n",
        "    def apply_reverse(self, data):\n",
        "        return data * (self.std + 1e-8) + self.mean"
      ]
    },
    {
      "cell_type": "markdown",
      "source": [],
      "metadata": {
        "id": "uUwjl939F8gQ"
      }
    },
    {
      "cell_type": "code",
      "execution_count": 82,
      "metadata": {
        "id": "71d3sRCTC2Ov"
      },
      "outputs": [],
      "source": [
        "# TODO standardize the data using the class you defined in the cell above.\n",
        "input_scaler = Standardizer()\n",
        "output_scaler = Standardizer()\n",
        "\n",
        "# Fit\n",
        "input_scaler.fit(X_train)\n",
        "output_scaler.fit(Y_train)\n",
        "\n",
        "# Apply\n",
        "X_train_scaled = input_scaler.apply(X_train)\n",
        "X_val_scaled = input_scaler.apply(X_val)\n",
        "X_test_scaled = input_scaler.apply(X_test)\n",
        "\n",
        "Y_train_scaled = output_scaler.apply(Y_train)\n",
        "Y_val_scaled = output_scaler.apply(Y_val)\n",
        "Y_test_scaled = output_scaler.apply(Y_test)"
      ]
    },
    {
      "cell_type": "markdown",
      "metadata": {
        "id": "VGAm4Y08C2Ov"
      },
      "source": [
        "# Subtask 2.3\n",
        "\n",
        "## Implementing an MLP using TensorFlow Functional API.\n",
        "\n",
        "#### TODO\n",
        "\n",
        "- Implement an MLP using TensorFlow Functional API.\n",
        "- Print the model architecture using `model.summary()`."
      ]
    },
    {
      "cell_type": "code",
      "execution_count": 87,
      "metadata": {
        "colab": {
          "base_uri": "https://localhost:8080/",
          "height": 297
        },
        "id": "ysdaWpwFC2Ow",
        "outputId": "77b3cd02-591e-4f06-f948-7dbcd6e45dd1"
      },
      "outputs": [
        {
          "output_type": "error",
          "ename": "IndexError",
          "evalue": "tuple index out of range",
          "traceback": [
            "\u001b[0;31m---------------------------------------------------------------------------\u001b[0m",
            "\u001b[0;31mIndexError\u001b[0m                                Traceback (most recent call last)",
            "\u001b[0;32m<ipython-input-87-90d3c6ff1828>\u001b[0m in \u001b[0;36m<cell line: 0>\u001b[0;34m()\u001b[0m\n\u001b[1;32m      9\u001b[0m     \u001b[0;32mreturn\u001b[0m \u001b[0mmodel\u001b[0m\u001b[0;34m\u001b[0m\u001b[0;34m\u001b[0m\u001b[0m\n\u001b[1;32m     10\u001b[0m \u001b[0;34m\u001b[0m\u001b[0m\n\u001b[0;32m---> 11\u001b[0;31m \u001b[0mmodel\u001b[0m \u001b[0;34m=\u001b[0m \u001b[0mMLP\u001b[0m\u001b[0;34m(\u001b[0m\u001b[0mN_hidden_layers\u001b[0m\u001b[0;34m=\u001b[0m\u001b[0;36m2\u001b[0m\u001b[0;34m,\u001b[0m \u001b[0mN_neurons\u001b[0m\u001b[0;34m=\u001b[0m\u001b[0;36m64\u001b[0m\u001b[0;34m,\u001b[0m \u001b[0mactivation\u001b[0m\u001b[0;34m=\u001b[0m\u001b[0;34m'relu'\u001b[0m\u001b[0;34m)\u001b[0m\u001b[0;34m\u001b[0m\u001b[0;34m\u001b[0m\u001b[0m\n\u001b[0m",
            "\u001b[0;32m<ipython-input-87-90d3c6ff1828>\u001b[0m in \u001b[0;36mMLP\u001b[0;34m(N_hidden_layers, N_neurons, activation)\u001b[0m\n\u001b[1;32m      4\u001b[0m     \u001b[0;32mfor\u001b[0m \u001b[0mi\u001b[0m \u001b[0;32min\u001b[0m \u001b[0mrange\u001b[0m\u001b[0;34m(\u001b[0m\u001b[0mN_hidden_layers\u001b[0m\u001b[0;34m)\u001b[0m\u001b[0;34m:\u001b[0m\u001b[0;34m\u001b[0m\u001b[0;34m\u001b[0m\u001b[0m\n\u001b[1;32m      5\u001b[0m         \u001b[0mx\u001b[0m \u001b[0;34m=\u001b[0m \u001b[0mlayers\u001b[0m\u001b[0;34m.\u001b[0m\u001b[0mDense\u001b[0m\u001b[0;34m(\u001b[0m\u001b[0mN_neurons\u001b[0m\u001b[0;34m,\u001b[0m \u001b[0mactivation\u001b[0m\u001b[0;34m=\u001b[0m\u001b[0mactivation\u001b[0m\u001b[0;34m)\u001b[0m\u001b[0;34m(\u001b[0m\u001b[0mx\u001b[0m\u001b[0;34m)\u001b[0m\u001b[0;34m\u001b[0m\u001b[0;34m\u001b[0m\u001b[0m\n\u001b[0;32m----> 6\u001b[0;31m     \u001b[0moutput_layer\u001b[0m \u001b[0;34m=\u001b[0m \u001b[0mlayers\u001b[0m\u001b[0;34m.\u001b[0m\u001b[0mDense\u001b[0m\u001b[0;34m(\u001b[0m\u001b[0mY_train_scaled\u001b[0m\u001b[0;34m.\u001b[0m\u001b[0mshape\u001b[0m\u001b[0;34m[\u001b[0m\u001b[0;36m1\u001b[0m\u001b[0;34m]\u001b[0m\u001b[0;34m,\u001b[0m \u001b[0mactivation\u001b[0m\u001b[0;34m=\u001b[0m\u001b[0;34m'linear'\u001b[0m\u001b[0;34m)\u001b[0m\u001b[0;34m(\u001b[0m\u001b[0mx\u001b[0m\u001b[0;34m)\u001b[0m\u001b[0;34m\u001b[0m\u001b[0;34m\u001b[0m\u001b[0m\n\u001b[0m\u001b[1;32m      7\u001b[0m \u001b[0;34m\u001b[0m\u001b[0m\n\u001b[1;32m      8\u001b[0m     \u001b[0mmodel\u001b[0m \u001b[0;34m=\u001b[0m \u001b[0mModel\u001b[0m\u001b[0;34m(\u001b[0m\u001b[0minputs\u001b[0m\u001b[0;34m=\u001b[0m\u001b[0minput_layer\u001b[0m\u001b[0;34m,\u001b[0m \u001b[0moutputs\u001b[0m\u001b[0;34m=\u001b[0m\u001b[0moutput_layer\u001b[0m\u001b[0;34m)\u001b[0m\u001b[0;34m\u001b[0m\u001b[0;34m\u001b[0m\u001b[0m\n",
            "\u001b[0;31mIndexError\u001b[0m: tuple index out of range"
          ]
        }
      ],
      "source": [
        "def MLP(N_hidden_layers, N_neurons, activation):\n",
        "    input_layer = Input(shape=(X_train_scaled.shape[1],))  # Girdi boyutu otomatik\n",
        "    x = input_layer\n",
        "    for i in range(N_hidden_layers):\n",
        "        x = layers.Dense(N_neurons, activation=activation)(x)\n",
        "    output_layer = layers.Dense(Y_train_scaled.shape[1], activation='linear')(x)\n",
        "\n",
        "    model = Model(inputs=input_layer, outputs=output_layer)\n",
        "    return model\n",
        "\n",
        "model = MLP(N_hidden_layers=2, N_neurons=64, activation='relu')"
      ]
    },
    {
      "cell_type": "code",
      "execution_count": 72,
      "metadata": {
        "colab": {
          "base_uri": "https://localhost:8080/",
          "height": 315
        },
        "id": "WyscR0D4C2Ow",
        "outputId": "805c0d7b-ccdf-480c-dd06-29f9532b5949"
      },
      "outputs": [
        {
          "output_type": "error",
          "ename": "IndexError",
          "evalue": "tuple index out of range",
          "traceback": [
            "\u001b[0;31m---------------------------------------------------------------------------\u001b[0m",
            "\u001b[0;31mIndexError\u001b[0m                                Traceback (most recent call last)",
            "\u001b[0;32m<ipython-input-72-f22d4ecd4e02>\u001b[0m in \u001b[0;36m<cell line: 0>\u001b[0;34m()\u001b[0m\n\u001b[1;32m      1\u001b[0m \u001b[0;31m# TODO print the model architecture\u001b[0m\u001b[0;34m\u001b[0m\u001b[0;34m\u001b[0m\u001b[0m\n\u001b[0;32m----> 2\u001b[0;31m \u001b[0mmodel\u001b[0m \u001b[0;34m=\u001b[0m \u001b[0mMLP\u001b[0m\u001b[0;34m(\u001b[0m\u001b[0mN_hidden_layers\u001b[0m\u001b[0;34m=\u001b[0m\u001b[0;36m2\u001b[0m\u001b[0;34m,\u001b[0m \u001b[0mN_neurons\u001b[0m\u001b[0;34m=\u001b[0m\u001b[0;36m64\u001b[0m\u001b[0;34m,\u001b[0m \u001b[0mactivation\u001b[0m\u001b[0;34m=\u001b[0m\u001b[0;34m'relu'\u001b[0m\u001b[0;34m)\u001b[0m\u001b[0;34m\u001b[0m\u001b[0;34m\u001b[0m\u001b[0m\n\u001b[0m\u001b[1;32m      3\u001b[0m \u001b[0;34m\u001b[0m\u001b[0m\n\u001b[1;32m      4\u001b[0m \u001b[0mmodel\u001b[0m\u001b[0;34m.\u001b[0m\u001b[0msummary\u001b[0m\u001b[0;34m(\u001b[0m\u001b[0;34m)\u001b[0m\u001b[0;34m\u001b[0m\u001b[0;34m\u001b[0m\u001b[0m\n",
            "\u001b[0;32m<ipython-input-71-f116a0a97b57>\u001b[0m in \u001b[0;36mMLP\u001b[0;34m(N_hidden_layers, N_neurons, activation)\u001b[0m\n\u001b[1;32m      6\u001b[0m     \u001b[0;32mfor\u001b[0m \u001b[0mi\u001b[0m \u001b[0;32min\u001b[0m \u001b[0mrange\u001b[0m\u001b[0;34m(\u001b[0m\u001b[0mN_hidden_layers\u001b[0m\u001b[0;34m)\u001b[0m\u001b[0;34m:\u001b[0m\u001b[0;34m\u001b[0m\u001b[0;34m\u001b[0m\u001b[0m\n\u001b[1;32m      7\u001b[0m         \u001b[0mx\u001b[0m \u001b[0;34m=\u001b[0m \u001b[0mlayers\u001b[0m\u001b[0;34m.\u001b[0m\u001b[0mDense\u001b[0m\u001b[0;34m(\u001b[0m\u001b[0mN_neurons\u001b[0m\u001b[0;34m,\u001b[0m \u001b[0mactivation\u001b[0m\u001b[0;34m=\u001b[0m\u001b[0mactivation\u001b[0m\u001b[0;34m)\u001b[0m\u001b[0;34m(\u001b[0m\u001b[0mx\u001b[0m\u001b[0;34m)\u001b[0m\u001b[0;34m\u001b[0m\u001b[0;34m\u001b[0m\u001b[0m\n\u001b[0;32m----> 8\u001b[0;31m     \u001b[0moutput_layer\u001b[0m \u001b[0;34m=\u001b[0m \u001b[0mlayers\u001b[0m\u001b[0;34m.\u001b[0m\u001b[0mDense\u001b[0m\u001b[0;34m(\u001b[0m\u001b[0mY_train_scaled\u001b[0m\u001b[0;34m.\u001b[0m\u001b[0mshape\u001b[0m\u001b[0;34m[\u001b[0m\u001b[0;36m1\u001b[0m\u001b[0;34m]\u001b[0m\u001b[0;34m,\u001b[0m \u001b[0mactivation\u001b[0m\u001b[0;34m=\u001b[0m\u001b[0;34m'linear'\u001b[0m\u001b[0;34m)\u001b[0m\u001b[0;34m(\u001b[0m\u001b[0mx\u001b[0m\u001b[0;34m)\u001b[0m\u001b[0;34m\u001b[0m\u001b[0;34m\u001b[0m\u001b[0m\n\u001b[0m\u001b[1;32m      9\u001b[0m \u001b[0;34m\u001b[0m\u001b[0m\n\u001b[1;32m     10\u001b[0m     \u001b[0mmodel\u001b[0m \u001b[0;34m=\u001b[0m \u001b[0mModel\u001b[0m\u001b[0;34m(\u001b[0m\u001b[0minputs\u001b[0m\u001b[0;34m=\u001b[0m\u001b[0minput_layer\u001b[0m\u001b[0;34m,\u001b[0m \u001b[0moutputs\u001b[0m\u001b[0;34m=\u001b[0m\u001b[0moutput_layer\u001b[0m\u001b[0;34m)\u001b[0m\u001b[0;34m\u001b[0m\u001b[0;34m\u001b[0m\u001b[0m\n",
            "\u001b[0;31mIndexError\u001b[0m: tuple index out of range"
          ]
        }
      ],
      "source": [
        "# TODO print the model architecture\n",
        "\n",
        "\n",
        "model.summary()"
      ]
    },
    {
      "cell_type": "markdown",
      "metadata": {
        "id": "TXR5hI6JC2Ow"
      },
      "source": [
        "# Subtask 2.4\n",
        "\n",
        "## Optimizer, loss function and training\n",
        "\n",
        "#### TODO\n",
        "\n",
        "- Define the optimizer and the loss function using `tf.keras.optimizers` and `tf.keras.losses`, respectively.\n",
        "    - Use stochastic gradient descent (SGD) with a learning rate of 1.0 as the optimizer.\n",
        "    - Use mean-squared error as the loss function.\n",
        "- Compile the model using the optimizer and the loss.\n",
        "- Train the model and get the history of training and validation losses.\n",
        "    - Train the model for 10 epochs.\n",
        "    - Use a batch size of 512.\n",
        "- Plot the learning curves."
      ]
    },
    {
      "cell_type": "code",
      "execution_count": 42,
      "metadata": {
        "id": "W_WJTD1RC2Ow"
      },
      "outputs": [],
      "source": [
        "# TODO define the optimizer and the loss function\n",
        "\n",
        "optimizer = tf.keras.optimizers.SGD(learning_rate=1.0)\n",
        "loss_fn = tf.keras.losses.MeanSquaredError()\n",
        "\n",
        "# TODO compile the model\n",
        "model.compile(optimizer=optimizer, loss=loss_fn)"
      ]
    },
    {
      "cell_type": "code",
      "execution_count": 43,
      "metadata": {
        "colab": {
          "base_uri": "https://localhost:8080/"
        },
        "id": "T-0O5LT2C2Ow",
        "outputId": "1fb7adda-15e2-42db-84fc-32e8a3eafea5"
      },
      "outputs": [
        {
          "output_type": "stream",
          "name": "stdout",
          "text": [
            "Epoch 1/10\n",
            "\u001b[1m703/703\u001b[0m \u001b[32m━━━━━━━━━━━━━━━━━━━━\u001b[0m\u001b[37m\u001b[0m \u001b[1m2s\u001b[0m 3ms/step - loss: nan - val_loss: nan\n",
            "Epoch 2/10\n",
            "\u001b[1m703/703\u001b[0m \u001b[32m━━━━━━━━━━━━━━━━━━━━\u001b[0m\u001b[37m\u001b[0m \u001b[1m2s\u001b[0m 2ms/step - loss: nan - val_loss: nan\n",
            "Epoch 3/10\n",
            "\u001b[1m703/703\u001b[0m \u001b[32m━━━━━━━━━━━━━━━━━━━━\u001b[0m\u001b[37m\u001b[0m \u001b[1m3s\u001b[0m 3ms/step - loss: nan - val_loss: nan\n",
            "Epoch 4/10\n",
            "\u001b[1m703/703\u001b[0m \u001b[32m━━━━━━━━━━━━━━━━━━━━\u001b[0m\u001b[37m\u001b[0m \u001b[1m2s\u001b[0m 2ms/step - loss: nan - val_loss: nan\n",
            "Epoch 5/10\n",
            "\u001b[1m703/703\u001b[0m \u001b[32m━━━━━━━━━━━━━━━━━━━━\u001b[0m\u001b[37m\u001b[0m \u001b[1m3s\u001b[0m 2ms/step - loss: nan - val_loss: nan\n",
            "Epoch 6/10\n",
            "\u001b[1m703/703\u001b[0m \u001b[32m━━━━━━━━━━━━━━━━━━━━\u001b[0m\u001b[37m\u001b[0m \u001b[1m2s\u001b[0m 3ms/step - loss: nan - val_loss: nan\n",
            "Epoch 7/10\n",
            "\u001b[1m703/703\u001b[0m \u001b[32m━━━━━━━━━━━━━━━━━━━━\u001b[0m\u001b[37m\u001b[0m \u001b[1m2s\u001b[0m 2ms/step - loss: nan - val_loss: nan\n",
            "Epoch 8/10\n",
            "\u001b[1m703/703\u001b[0m \u001b[32m━━━━━━━━━━━━━━━━━━━━\u001b[0m\u001b[37m\u001b[0m \u001b[1m3s\u001b[0m 3ms/step - loss: nan - val_loss: nan\n",
            "Epoch 9/10\n",
            "\u001b[1m703/703\u001b[0m \u001b[32m━━━━━━━━━━━━━━━━━━━━\u001b[0m\u001b[37m\u001b[0m \u001b[1m2s\u001b[0m 2ms/step - loss: nan - val_loss: nan\n",
            "Epoch 10/10\n",
            "\u001b[1m703/703\u001b[0m \u001b[32m━━━━━━━━━━━━━━━━━━━━\u001b[0m\u001b[37m\u001b[0m \u001b[1m2s\u001b[0m 2ms/step - loss: nan - val_loss: nan\n"
          ]
        }
      ],
      "source": [
        "# TODO train the model\n",
        "batch_size = 512\n",
        "epochs = 10\n",
        "\n",
        "history = model.fit(\n",
        "    X_train_scaled, Y_train_scaled,\n",
        "    validation_data=(X_val_scaled, Y_val_scaled),\n",
        "    epochs=epochs,\n",
        "    batch_size=batch_size\n",
        ")"
      ]
    },
    {
      "cell_type": "code",
      "execution_count": 17,
      "metadata": {
        "colab": {
          "base_uri": "https://localhost:8080/",
          "height": 426
        },
        "id": "wjeB9_0aC2Ox",
        "outputId": "6eec38d1-2d86-4f91-fac5-c7932dec0069"
      },
      "outputs": [
        {
          "output_type": "display_data",
          "data": {
            "text/plain": [
              "<Figure size 500x400 with 1 Axes>"
            ],
            "image/png": "[encoded data removed]"
          },
          "metadata": {}
        }
      ],
      "source": [
        "def plot_learning_curves(hist):\n",
        "    epochs = np.arange(0, len(hist.history['loss'])) + 1\n",
        "    sns.set(style='ticks')\n",
        "    fig, ax = plt.subplots(1, 1, figsize = (5, 4))\n",
        "    ax.plot(epochs, hist.history['loss'], label = 'Training loss', marker = 'o', ls = '--')\n",
        "    ax.plot(epochs, hist.history['val_loss'], label = 'Validation loss', marker = 'o', ls = '--')\n",
        "\n",
        "    ax.set_xlabel('Epoch')\n",
        "    ax.set_ylabel('Loss')\n",
        "    ax.set_title('Learning curves')\n",
        "    ax.legend()\n",
        "    sns.despine(trim=True, offset=5)\n",
        "\n",
        "# TODO Use the function above to plot the learning curves\n",
        "plot_learning_curves(history)"
      ]
    },
    {
      "cell_type": "markdown",
      "metadata": {
        "id": "dvwfO3yFC2Ox"
      },
      "source": [
        "**TODO Your answer here**\n",
        "\n",
        "Does the model learn properly? Why?\n",
        "\n",
        "**TODO Your answer here**"
      ]
    },
    {
      "cell_type": "markdown",
      "metadata": {
        "id": "l77EkBy4C2Ox"
      },
      "source": [
        "<span style='color:red'>**Your answer:**</span>\n",
        "\n",
        "...\n"
      ]
    },
    {
      "cell_type": "markdown",
      "metadata": {
        "id": "fizDvUhQC2Ox"
      },
      "source": [
        "# Subtask 2.5\n",
        "\n",
        "## Learning rate\n",
        "\n",
        "#### TODO\n",
        "- Decrease the learning rate logarithmically, i.e. by a factor of 10, until your model starts to train.\n",
        "    - Train the model for 10 epochs.\n",
        "    - Use a batch size of 512.\n",
        "- Plot the training curves of the loss and the accuracies as in Subtask 1.3. Use the function defined above.\n"
      ]
    },
    {
      "cell_type": "code",
      "execution_count": null,
      "metadata": {
        "id": "W-wfcLtzC2Ox"
      },
      "outputs": [],
      "source": [
        "# learning rate = 0.1\n",
        "####################\n",
        "## YOUR CODE HERE ##\n",
        "####################\n"
      ]
    },
    {
      "cell_type": "code",
      "execution_count": null,
      "metadata": {
        "id": "B73-pZUwC2Ox"
      },
      "outputs": [],
      "source": [
        "# learning rate = 0.01\n",
        "####################\n",
        "## YOUR CODE HERE ##\n",
        "####################"
      ]
    },
    {
      "cell_type": "code",
      "execution_count": null,
      "metadata": {
        "id": "7UsKfuc7C2Oy"
      },
      "outputs": [],
      "source": [
        "# learning rate = 0.001\n",
        "####################\n",
        "## YOUR CODE HERE ##\n",
        "####################"
      ]
    },
    {
      "cell_type": "code",
      "execution_count": null,
      "metadata": {
        "id": "qb3MRNMrC2Oy"
      },
      "outputs": [],
      "source": [
        "# learning rate = 1e-4\n",
        "####################\n",
        "## YOUR CODE HERE ##\n",
        "####################"
      ]
    },
    {
      "cell_type": "code",
      "source": [
        "batch_size = 512\n",
        "epochs = 10\n",
        "learning_rates = [0.1, 0.01, 0.001, 1e-4]\n",
        "histories = {}  # hold the loss values each lr values\n",
        "\n",
        "for lr in learning_rates:\n",
        "    print(f\"\\nTraining with learning rate = {lr}\")\n",
        "\n",
        "    # create model again\n",
        "    model = tf.keras.Sequential([\n",
        "        tf.keras.layers.Input(shape=(X_train_scaled.shape[1],)),\n",
        "        tf.keras.layers.Dense(20, activation='relu'),\n",
        "        tf.keras.layers.Dense(Y_train_scaled.shape[1], activation='linear')\n",
        "    ])\n",
        "\n",
        "    # compile\n",
        "    optimizer = tf.keras.optimizers.SGD(learning_rate=lr)\n",
        "    loss_fn = tf.keras.losses.MeanSquaredError()\n",
        "\n",
        "    model.compile(optimizer=optimizer, loss=loss_fn)\n",
        "\n",
        "    # train\n",
        "    history = model.fit(\n",
        "        X_train_scaled, Y_train_scaled,\n",
        "        validation_data=(X_val_scaled, Y_val_scaled),\n",
        "        batch_size=batch_size,\n",
        "        epochs=epochs,\n",
        "        verbose=0\n",
        "    )\n",
        "\n",
        "    # save history\n",
        "    histories[lr] = history\n"
      ],
      "metadata": {
        "colab": {
          "base_uri": "https://localhost:8080/"
        },
        "id": "rOaiMP_gHxYc",
        "outputId": "17446667-f21c-4810-a5e4-07e17aa034f3"
      },
      "execution_count": 18,
      "outputs": [
        {
          "output_type": "stream",
          "name": "stdout",
          "text": [
            "\n",
            "Training with learning rate = 0.1\n",
            "\n",
            "Training with learning rate = 0.01\n",
            "\n",
            "Training with learning rate = 0.001\n",
            "\n",
            "Training with learning rate = 0.0001\n"
          ]
        }
      ]
    },
    {
      "cell_type": "code",
      "source": [
        "sns.set(style='whitegrid')\n",
        "plt.figure(figsize=(8, 6))\n",
        "\n",
        "for lr, hist in histories.items():\n",
        "    plt.plot(hist.history['loss'], label=f'Train Loss (lr={lr})', linestyle='--')\n",
        "    plt.plot(hist.history['val_loss'], label=f'Val Loss (lr={lr})')\n",
        "\n",
        "plt.xlabel('Epoch')\n",
        "plt.ylabel('Loss')\n",
        "plt.title('Training and Validation Losses for Different Learning Rates')\n",
        "plt.legend()\n",
        "plt.tight_layout()\n",
        "plt.show()"
      ],
      "metadata": {
        "colab": {
          "base_uri": "https://localhost:8080/",
          "height": 601
        },
        "id": "gHD9KLr_IGuY",
        "outputId": "60bd819a-bb17-45ca-a526-1b0027364b55"
      },
      "execution_count": 19,
      "outputs": [
        {
          "output_type": "display_data",
          "data": {
            "text/plain": [
              "<Figure size 800x600 with 1 Axes>"
            ],
            "image/png": "[encoded data removed]"
          },
          "metadata": {}
        }
      ]
    },
    {
      "cell_type": "markdown",
      "metadata": {
        "id": "wAqrc41cC2O9"
      },
      "source": [
        "## Model selection\n",
        "\n",
        "Is it the lowest validation loss that one can achieve? Probably not. So here are your TODOs:\n",
        "\n",
        "#### TODO:\n",
        "- Train the model for 100 epochs and plot the learning curves. Use learning rate of 0.01.\n",
        "\n",
        "#### TODO from now on, for all subsequent tasks:\n",
        "- Print the overall best validation loss and the epoch at which it occurred of.\n"
      ]
    },
    {
      "cell_type": "code",
      "execution_count": 20,
      "metadata": {
        "id": "Z0n7hif7C2O9"
      },
      "outputs": [],
      "source": [
        "\n",
        "model = tf.keras.Sequential([\n",
        "    tf.keras.layers.Input(shape=(X_train_scaled.shape[1],)),\n",
        "    tf.keras.layers.Dense(20, activation='relu'),\n",
        "    tf.keras.layers.Dense(Y_train_scaled.shape[1], activation='linear')\n",
        "])\n",
        "\n",
        "# compile\n",
        "optimizer = tf.keras.optimizers.SGD(learning_rate=0.01)\n",
        "loss_fn = tf.keras.losses.MeanSquaredError()\n",
        "\n",
        "model.compile(optimizer=optimizer, loss=loss_fn)\n",
        "\n",
        "# train (100 epoch)\n",
        "history = model.fit(\n",
        "    X_train_scaled, Y_train_scaled,\n",
        "    validation_data=(X_val_scaled, Y_val_scaled),\n",
        "    batch_size=512,\n",
        "    epochs=100,\n",
        "    verbose=0\n",
        ")\n"
      ]
    },
    {
      "cell_type": "markdown",
      "metadata": {
        "id": "ZX_bEGGrC2O9"
      },
      "source": [
        "**TODO Your answer here**\n",
        "\n",
        "Answer the following questions in written form:\n",
        "\n",
        "1. Does the training loss decrease after each epoch? Why does it? // Why does it not?\n",
        "1. Does the validation loss decrease after each epoch? Why does it? // Why does it not? (For your answer to be sufficient, you should describe fluctuations and discuss the overall minimum of the curve.)\n",
        "1. At which epoch was your model best? I.e. if you had saved your model after each training epoch, which one would you use to make predictions to unseen samples (e.g. from the test set)? Why? (For your answer to be sufficient: Also discuss what this means in terms of overfitting)\n",
        "\n",
        "**TODO Your answer here**\n"
      ]
    },
    {
      "cell_type": "markdown",
      "metadata": {
        "id": "fxGMPr9DC2O9"
      },
      "source": [
        "<span style='color:red'>**Your answer:**</span>\n",
        "\n",
        "1. ..."
      ]
    },
    {
      "cell_type": "markdown",
      "metadata": {
        "id": "3BramMlgC2O-"
      },
      "source": [
        "# Subtask 2.6\n",
        "## Save and restore model checkpoints\n",
        "\n",
        "Training that model for 100 epochs took quite a bit of time, right? Wouldn't it be a pity if it would get deleted out of memory, e.g. because your Colab session terminates (this can even happen automatically)? We would have to train it again to make predictions! To prevent this, we would like to save a check-point of the already optimized model's weights to disk. Then, we could just load our model weights at any time and use our model again without retraining. As you will see in a bit, this will be very handy for early stopping, too!\n",
        "\n",
        "#### TODO\n",
        "- Save a checkpoint of the `model` trained above (i.e. the model's parameters) to disk.\n",
        "- Initialize a new model, `model2` with the same architecture as used for the `model` you stored. Do *not* train `model2`.\n",
        "- Evaluate `model2` on the validation dataset.\n",
        "- Now, overwrite the initialized, untrained weights of `model2` with the weights you saved into the checkpoint of `model`.\n",
        "- Evaluate `model2`'s validation loss again. It should be of the exact same value as `model`'s validation loss.\n"
      ]
    },
    {
      "cell_type": "markdown",
      "metadata": {
        "id": "u9XGHSA3C2O-"
      },
      "source": [
        "*Hints:*\n",
        " - Read https://www.tensorflow.org/tutorials/keras/save_and_load\n",
        " - Use `model.save_weights`"
      ]
    },
    {
      "cell_type": "code",
      "execution_count": 21,
      "metadata": {
        "id": "_hBJsTnAC2O-"
      },
      "outputs": [],
      "source": [
        "model.save_weights(\"model_checkpoint.weights.h5\")\n"
      ]
    },
    {
      "cell_type": "code",
      "source": [
        "model2 = tf.keras.Sequential([\n",
        "    tf.keras.layers.Input(shape=(X_train_scaled.shape[1],)),\n",
        "    tf.keras.layers.Dense(20, activation='relu'),\n",
        "    tf.keras.layers.Dense(Y_train_scaled.shape[1], activation='linear')\n",
        "])\n",
        "\n",
        "#same optimizer and loss\n",
        "model2.compile(optimizer=tf.keras.optimizers.SGD(learning_rate=0.01),\n",
        "               loss=tf.keras.losses.MeanSquaredError())"
      ],
      "metadata": {
        "id": "J7dC5EDHKbP9"
      },
      "execution_count": 22,
      "outputs": []
    },
    {
      "cell_type": "code",
      "source": [
        "val_loss_before = model2.evaluate(X_val_scaled, Y_val_scaled, verbose=0)\n",
        "print(f\"Validation loss (before loading weights): {val_loss_before:.6f}\")"
      ],
      "metadata": {
        "colab": {
          "base_uri": "https://localhost:8080/"
        },
        "id": "WukUsguqKpux",
        "outputId": "e49afd1e-08d9-449f-8601-9cbbf5307e57"
      },
      "execution_count": 23,
      "outputs": [
        {
          "output_type": "stream",
          "name": "stdout",
          "text": [
            "Validation loss (before loading weights): nan\n"
          ]
        }
      ]
    },
    {
      "cell_type": "code",
      "source": [
        "model2.load_weights(\"model_checkpoint.weights.h5\")\n",
        "\n",
        "val_loss_after = model2.evaluate(X_val_scaled, Y_val_scaled, verbose=0)\n",
        "print(f\"Validation loss (after loading weights): {val_loss_after:.6f}\")"
      ],
      "metadata": {
        "colab": {
          "base_uri": "https://localhost:8080/"
        },
        "id": "0vg-ItMvKtcT",
        "outputId": "fdd3fa24-e6d8-4e74-e9a7-753f6e7d09c3"
      },
      "execution_count": 24,
      "outputs": [
        {
          "output_type": "stream",
          "name": "stdout",
          "text": [
            "Validation loss (after loading weights): nan\n"
          ]
        }
      ]
    },
    {
      "cell_type": "markdown",
      "metadata": {
        "id": "2b9NY8eSC2O_"
      },
      "source": [
        "# Subtask 2.7\n",
        "## Early stopping\n",
        "So the model you ended up with after 100 epochs was not the best one. That has two implications for us: (1) We would not have had to train for that many epochs and could have saved some computing time. (2) We do not have the best model to apply our model to make actual predictions for unseen samples. If we would constantly assess our model's validation performance during training, we could stop optimization as soon as our model's performance does not increase anymore. This is called *early stopping*.\n",
        "\n",
        "### TODO\n",
        "- Implement Early Stopping using `tf.keras.callbacks.EarlyStopping`. Use patience = 5, which means that if the validation loss is not improved after 5 epochs, the training process should be stopped.\n",
        "- Save the model checkpoint after each epoch if the validation loss is improved. Use `tf.keras.callbacks.ModelCheckpoint`.\n",
        "- Train the model for 100 epochs with a learning rate of 0.01.\n",
        "- Load the model checkpoint.\n",
        "- Evaluate the model on the validation data."
      ]
    },
    {
      "cell_type": "code",
      "execution_count": 30,
      "metadata": {
        "id": "5oZ3VpgcC2O_"
      },
      "outputs": [],
      "source": [
        "early_stopping_cb = tf.keras.callbacks.EarlyStopping(\n",
        "    monitor='val_loss',\n",
        "    patience=5,\n",
        "    restore_best_weights=False\n",
        ")\n"
      ]
    },
    {
      "cell_type": "code",
      "execution_count": 31,
      "metadata": {
        "colab": {
          "base_uri": "https://localhost:8080/",
          "height": 894
        },
        "id": "t--gs2KHC2O_",
        "outputId": "c92e17ea-0210-4762-9b54-5ad5c91dc8f3"
      },
      "outputs": [
        {
          "output_type": "stream",
          "name": "stdout",
          "text": [
            "Epoch 1/100\n",
            "\u001b[1m703/703\u001b[0m \u001b[32m━━━━━━━━━━━━━━━━━━━━\u001b[0m\u001b[37m\u001b[0m \u001b[1m0s\u001b[0m 3ms/step - loss: nan\n",
            "Epoch 1: val_loss did not improve from inf\n",
            "\u001b[1m703/703\u001b[0m \u001b[32m━━━━━━━━━━━━━━━━━━━━\u001b[0m\u001b[37m\u001b[0m \u001b[1m3s\u001b[0m 4ms/step - loss: nan - val_loss: nan\n",
            "Epoch 2/100\n",
            "\u001b[1m699/703\u001b[0m \u001b[32m━━━━━━━━━━━━━━━━━━━\u001b[0m\u001b[37m━\u001b[0m \u001b[1m0s\u001b[0m 2ms/step - loss: nan\n",
            "Epoch 2: val_loss did not improve from inf\n",
            "\u001b[1m703/703\u001b[0m \u001b[32m━━━━━━━━━━━━━━━━━━━━\u001b[0m\u001b[37m\u001b[0m \u001b[1m4s\u001b[0m 2ms/step - loss: nan - val_loss: nan\n",
            "Epoch 3/100\n",
            "\u001b[1m682/703\u001b[0m \u001b[32m━━━━━━━━━━━━━━━━━━━\u001b[0m\u001b[37m━\u001b[0m \u001b[1m0s\u001b[0m 2ms/step - loss: nan\n",
            "Epoch 3: val_loss did not improve from inf\n",
            "\u001b[1m703/703\u001b[0m \u001b[32m━━━━━━━━━━━━━━━━━━━━\u001b[0m\u001b[37m\u001b[0m \u001b[1m3s\u001b[0m 2ms/step - loss: nan - val_loss: nan\n",
            "Epoch 4/100\n",
            "\u001b[1m677/703\u001b[0m \u001b[32m━━━━━━━━━━━━━━━━━━━\u001b[0m\u001b[37m━\u001b[0m \u001b[1m0s\u001b[0m 2ms/step - loss: nan\n",
            "Epoch 4: val_loss did not improve from inf\n",
            "\u001b[1m703/703\u001b[0m \u001b[32m━━━━━━━━━━━━━━━━━━━━\u001b[0m\u001b[37m\u001b[0m \u001b[1m3s\u001b[0m 2ms/step - loss: nan - val_loss: nan\n",
            "Epoch 5/100\n",
            "\u001b[1m689/703\u001b[0m \u001b[32m━━━━━━━━━━━━━━━━━━━\u001b[0m\u001b[37m━\u001b[0m \u001b[1m0s\u001b[0m 2ms/step - loss: nan\n",
            "Epoch 5: val_loss did not improve from inf\n",
            "\u001b[1m703/703\u001b[0m \u001b[32m━━━━━━━━━━━━━━━━━━━━\u001b[0m\u001b[37m\u001b[0m \u001b[1m2s\u001b[0m 2ms/step - loss: nan - val_loss: nan\n",
            "Epoch 6/100\n",
            "\u001b[1m701/703\u001b[0m \u001b[32m━━━━━━━━━━━━━━━━━━━\u001b[0m\u001b[37m━\u001b[0m \u001b[1m0s\u001b[0m 2ms/step - loss: nan\n",
            "Epoch 6: val_loss did not improve from inf\n",
            "\u001b[1m703/703\u001b[0m \u001b[32m━━━━━━━━━━━━━━━━━━━━\u001b[0m\u001b[37m\u001b[0m \u001b[1m3s\u001b[0m 3ms/step - loss: nan - val_loss: nan\n"
          ]
        },
        {
          "output_type": "error",
          "ename": "FileNotFoundError",
          "evalue": "[Errno 2] Unable to synchronously open file (unable to open file: name = 'best_model_earlystop.weights.h5', errno = 2, error message = 'No such file or directory', flags = 0, o_flags = 0)",
          "traceback": [
            "\u001b[0;31m---------------------------------------------------------------------------\u001b[0m",
            "\u001b[0;31mFileNotFoundError\u001b[0m                         Traceback (most recent call last)",
            "\u001b[0;32m<ipython-input-31-9a497e326154>\u001b[0m in \u001b[0;36m<cell line: 0>\u001b[0;34m()\u001b[0m\n\u001b[1;32m     27\u001b[0m     \u001b[0mverbose\u001b[0m\u001b[0;34m=\u001b[0m\u001b[0;36m1\u001b[0m\u001b[0;34m\u001b[0m\u001b[0;34m\u001b[0m\u001b[0m\n\u001b[1;32m     28\u001b[0m )\n\u001b[0;32m---> 29\u001b[0;31m \u001b[0mmodel3\u001b[0m\u001b[0;34m.\u001b[0m\u001b[0mload_weights\u001b[0m\u001b[0;34m(\u001b[0m\u001b[0;34m\"best_model_earlystop.weights.h5\"\u001b[0m\u001b[0;34m)\u001b[0m\u001b[0;34m\u001b[0m\u001b[0;34m\u001b[0m\u001b[0m\n\u001b[0m\u001b[1;32m     30\u001b[0m \u001b[0;34m\u001b[0m\u001b[0m\n\u001b[1;32m     31\u001b[0m \u001b[0mval_loss_best\u001b[0m \u001b[0;34m=\u001b[0m \u001b[0mmodel3\u001b[0m\u001b[0;34m.\u001b[0m\u001b[0mevaluate\u001b[0m\u001b[0;34m(\u001b[0m\u001b[0mX_val_scaled\u001b[0m\u001b[0;34m,\u001b[0m \u001b[0mY_val_scaled\u001b[0m\u001b[0;34m,\u001b[0m \u001b[0mverbose\u001b[0m\u001b[0;34m=\u001b[0m\u001b[0;36m0\u001b[0m\u001b[0;34m)\u001b[0m\u001b[0;34m\u001b[0m\u001b[0;34m\u001b[0m\u001b[0m\n",
            "\u001b[0;32m/usr/local/lib/python3.11/dist-packages/keras/src/utils/traceback_utils.py\u001b[0m in \u001b[0;36merror_handler\u001b[0;34m(*args, **kwargs)\u001b[0m\n\u001b[1;32m    120\u001b[0m             \u001b[0;31m# To get the full stack trace, call:\u001b[0m\u001b[0;34m\u001b[0m\u001b[0;34m\u001b[0m\u001b[0m\n\u001b[1;32m    121\u001b[0m             \u001b[0;31m# `keras.config.disable_traceback_filtering()`\u001b[0m\u001b[0;34m\u001b[0m\u001b[0;34m\u001b[0m\u001b[0m\n\u001b[0;32m--> 122\u001b[0;31m             \u001b[0;32mraise\u001b[0m \u001b[0me\u001b[0m\u001b[0;34m.\u001b[0m\u001b[0mwith_traceback\u001b[0m\u001b[0;34m(\u001b[0m\u001b[0mfiltered_tb\u001b[0m\u001b[0;34m)\u001b[0m \u001b[0;32mfrom\u001b[0m \u001b[0;32mNone\u001b[0m\u001b[0;34m\u001b[0m\u001b[0;34m\u001b[0m\u001b[0m\n\u001b[0m\u001b[1;32m    123\u001b[0m         \u001b[0;32mfinally\u001b[0m\u001b[0;34m:\u001b[0m\u001b[0;34m\u001b[0m\u001b[0;34m\u001b[0m\u001b[0m\n\u001b[1;32m    124\u001b[0m             \u001b[0;32mdel\u001b[0m \u001b[0mfiltered_tb\u001b[0m\u001b[0;34m\u001b[0m\u001b[0;34m\u001b[0m\u001b[0m\n",
            "\u001b[0;32m/usr/local/lib/python3.11/dist-packages/h5py/_hl/files.py\u001b[0m in \u001b[0;36m__init__\u001b[0;34m(self, name, mode, driver, libver, userblock_size, swmr, rdcc_nslots, rdcc_nbytes, rdcc_w0, track_order, fs_strategy, fs_persist, fs_threshold, fs_page_size, page_buf_size, min_meta_keep, min_raw_keep, locking, alignment_threshold, alignment_interval, meta_block_size, **kwds)\u001b[0m\n\u001b[1;32m    562\u001b[0m                                  \u001b[0mfs_persist\u001b[0m\u001b[0;34m=\u001b[0m\u001b[0mfs_persist\u001b[0m\u001b[0;34m,\u001b[0m \u001b[0mfs_threshold\u001b[0m\u001b[0;34m=\u001b[0m\u001b[0mfs_threshold\u001b[0m\u001b[0;34m,\u001b[0m\u001b[0;34m\u001b[0m\u001b[0;34m\u001b[0m\u001b[0m\n\u001b[1;32m    563\u001b[0m                                  fs_page_size=fs_page_size)\n\u001b[0;32m--> 564\u001b[0;31m                 \u001b[0mfid\u001b[0m \u001b[0;34m=\u001b[0m \u001b[0mmake_fid\u001b[0m\u001b[0;34m(\u001b[0m\u001b[0mname\u001b[0m\u001b[0;34m,\u001b[0m \u001b[0mmode\u001b[0m\u001b[0;34m,\u001b[0m \u001b[0muserblock_size\u001b[0m\u001b[0;34m,\u001b[0m \u001b[0mfapl\u001b[0m\u001b[0;34m,\u001b[0m \u001b[0mfcpl\u001b[0m\u001b[0;34m,\u001b[0m \u001b[0mswmr\u001b[0m\u001b[0;34m=\u001b[0m\u001b[0mswmr\u001b[0m\u001b[0;34m)\u001b[0m\u001b[0;34m\u001b[0m\u001b[0;34m\u001b[0m\u001b[0m\n\u001b[0m\u001b[1;32m    565\u001b[0m \u001b[0;34m\u001b[0m\u001b[0m\n\u001b[1;32m    566\u001b[0m             \u001b[0;32mif\u001b[0m \u001b[0misinstance\u001b[0m\u001b[0;34m(\u001b[0m\u001b[0mlibver\u001b[0m\u001b[0;34m,\u001b[0m \u001b[0mtuple\u001b[0m\u001b[0;34m)\u001b[0m\u001b[0;34m:\u001b[0m\u001b[0;34m\u001b[0m\u001b[0;34m\u001b[0m\u001b[0m\n",
            "\u001b[0;32m/usr/local/lib/python3.11/dist-packages/h5py/_hl/files.py\u001b[0m in \u001b[0;36mmake_fid\u001b[0;34m(name, mode, userblock_size, fapl, fcpl, swmr)\u001b[0m\n\u001b[1;32m    236\u001b[0m         \u001b[0;32mif\u001b[0m \u001b[0mswmr\u001b[0m \u001b[0;32mand\u001b[0m \u001b[0mswmr_support\u001b[0m\u001b[0;34m:\u001b[0m\u001b[0;34m\u001b[0m\u001b[0;34m\u001b[0m\u001b[0m\n\u001b[1;32m    237\u001b[0m             \u001b[0mflags\u001b[0m \u001b[0;34m|=\u001b[0m \u001b[0mh5f\u001b[0m\u001b[0;34m.\u001b[0m\u001b[0mACC_SWMR_READ\u001b[0m\u001b[0;34m\u001b[0m\u001b[0;34m\u001b[0m\u001b[0m\n\u001b[0;32m--> 238\u001b[0;31m         \u001b[0mfid\u001b[0m \u001b[0;34m=\u001b[0m \u001b[0mh5f\u001b[0m\u001b[0;34m.\u001b[0m\u001b[0mopen\u001b[0m\u001b[0;34m(\u001b[0m\u001b[0mname\u001b[0m\u001b[0;34m,\u001b[0m \u001b[0mflags\u001b[0m\u001b[0;34m,\u001b[0m \u001b[0mfapl\u001b[0m\u001b[0;34m=\u001b[0m\u001b[0mfapl\u001b[0m\u001b[0;34m)\u001b[0m\u001b[0;34m\u001b[0m\u001b[0;34m\u001b[0m\u001b[0m\n\u001b[0m\u001b[1;32m    239\u001b[0m     \u001b[0;32melif\u001b[0m \u001b[0mmode\u001b[0m \u001b[0;34m==\u001b[0m \u001b[0;34m'r+'\u001b[0m\u001b[0;34m:\u001b[0m\u001b[0;34m\u001b[0m\u001b[0;34m\u001b[0m\u001b[0m\n\u001b[1;32m    240\u001b[0m         \u001b[0mfid\u001b[0m \u001b[0;34m=\u001b[0m \u001b[0mh5f\u001b[0m\u001b[0;34m.\u001b[0m\u001b[0mopen\u001b[0m\u001b[0;34m(\u001b[0m\u001b[0mname\u001b[0m\u001b[0;34m,\u001b[0m \u001b[0mh5f\u001b[0m\u001b[0;34m.\u001b[0m\u001b[0mACC_RDWR\u001b[0m\u001b[0;34m,\u001b[0m \u001b[0mfapl\u001b[0m\u001b[0;34m=\u001b[0m\u001b[0mfapl\u001b[0m\u001b[0;34m)\u001b[0m\u001b[0;34m\u001b[0m\u001b[0;34m\u001b[0m\u001b[0m\n",
            "\u001b[0;32mh5py/_objects.pyx\u001b[0m in \u001b[0;36mh5py._objects.with_phil.wrapper\u001b[0;34m()\u001b[0m\n",
            "\u001b[0;32mh5py/_objects.pyx\u001b[0m in \u001b[0;36mh5py._objects.with_phil.wrapper\u001b[0;34m()\u001b[0m\n",
            "\u001b[0;32mh5py/h5f.pyx\u001b[0m in \u001b[0;36mh5py.h5f.open\u001b[0;34m()\u001b[0m\n",
            "\u001b[0;31mFileNotFoundError\u001b[0m: [Errno 2] Unable to synchronously open file (unable to open file: name = 'best_model_earlystop.weights.h5', errno = 2, error message = 'No such file or directory', flags = 0, o_flags = 0)"
          ]
        }
      ],
      "source": [
        "## TODO load the model checkpoint and evaluate on validation data\n",
        "\n",
        "checkpoint_cb = tf.keras.callbacks.ModelCheckpoint(\n",
        "    \"best_model_earlystop.weights.h5\",\n",
        "    monitor='val_loss',\n",
        "    save_best_only=True,\n",
        "    save_weights_only=True,\n",
        "    verbose=1\n",
        ")\n",
        "# create new model with same architecture\n",
        "model3 = tf.keras.Sequential([\n",
        "    tf.keras.layers.Input(shape=(X_train_scaled.shape[1],)),\n",
        "    tf.keras.layers.Dense(20, activation='relu'),\n",
        "    tf.keras.layers.Dense(Y_train_scaled.shape[1], activation='linear')\n",
        "])\n",
        "\n",
        "# compiling\n",
        "model3.compile(optimizer=tf.keras.optimizers.SGD(learning_rate=0.01),\n",
        "               loss=tf.keras.losses.MeanSquaredError())\n",
        "# start the train with 100 epoch\n",
        "history_es = model3.fit(\n",
        "    X_train_scaled, Y_train_scaled,\n",
        "    epochs=100,\n",
        "    batch_size=512,\n",
        "    validation_data=(X_val_scaled, Y_val_scaled),\n",
        "    callbacks=[early_stopping_cb, checkpoint_cb],\n",
        "    verbose=1\n",
        ")\n",
        "model3.load_weights(\"best_model_earlystop.weights.h5\")\n",
        "\n",
        "val_loss_best = model3.evaluate(X_val_scaled, Y_val_scaled, verbose=0)\n",
        "print(f\"Validation loss (best saved model): {val_loss_best:.6f}\")"
      ]
    },
    {
      "cell_type": "markdown",
      "metadata": {
        "id": "EFDUpq5yC2PA"
      },
      "source": [
        "#### TODO\n",
        "- Compare the training you just did with the one of the same model trained for 100 epochs. Did you reach best model performance? If so: why? If not: why not?\n",
        "- What is the purpose of `patience`, and why do we need that?\n",
        "- Do the same training as in the previous cell, starting training from scratch, but try different values for `patience` now. Did you end up with a model resulting in the best validation accuracy you have seen so far, but without training the full 100 epochs?"
      ]
    },
    {
      "cell_type": "code",
      "execution_count": null,
      "metadata": {
        "id": "e57PjrVlC2PA"
      },
      "outputs": [],
      "source": [
        "####################\n",
        "## YOUR CODE HERE ##\n",
        "####################"
      ]
    },
    {
      "cell_type": "markdown",
      "metadata": {
        "id": "qfxLB9C3C2PA"
      },
      "source": [
        "## Explore batch size *(optional)*\n",
        "\n",
        "*This task is optional, you do not need to solve it*\n",
        "\n",
        "Let us explore even more model and training parameters. In this section, we will see the impact of batch size on training. Let us use a learning rate of $10^{-3}$ from now on.\n",
        "\n",
        "\n",
        "#### TODO *(optional)*\n",
        "- Run training of the same model used above with\n",
        "    - batch size 1 for **one epoch**\n",
        "    - batch size 1024 for 100 epochs, using early stopping with patience 10\n",
        "- Compare your training results of all three batch sizes you have trained, i.e. batch size 1, 512 (from above) and 1024\n",
        "- Was it smart to set batch size to 1?\n",
        "- How long (in terms of computing time) do your models need to train for the different batch sizes? (You could even measure this with python, using the `time` package)\n",
        "- What is the impact on model performance?"
      ]
    },
    {
      "cell_type": "code",
      "execution_count": null,
      "metadata": {
        "id": "VAqdsFALC2PA"
      },
      "outputs": [],
      "source": [
        "# Batch size 1\n",
        "\n",
        "###############################\n",
        "## YOUR CODE HERE - OPTIONAL ##\n",
        "###############################"
      ]
    },
    {
      "cell_type": "code",
      "execution_count": null,
      "metadata": {
        "id": "BmjOYzg0C2PA"
      },
      "outputs": [],
      "source": [
        "# Batch size 1024\n",
        "\n",
        "###############################\n",
        "## YOUR CODE HERE - OPTIONAL ##\n",
        "###############################"
      ]
    },
    {
      "cell_type": "markdown",
      "metadata": {
        "id": "yfdU7HmAC2PB"
      },
      "source": [
        "# Subtask 2.8\n",
        "## What about the architecture?\n",
        "\n",
        "How does architecture affect predictive performance?\n",
        "\n",
        "#### TODO:\n",
        "In the following, try to improve model performance by varying\n",
        "- number of hidden layers\n",
        "- number of neurons per each hidden layer\n",
        "- activation function\n",
        "\n",
        "These parameters are called hyper-parameters, since they are excluded from model optimization. Instead, we have to set them by hand and explore them to find a model with good predictive accuracy.\n",
        "\n",
        "Vary only one hyper-parameter at a time. If you would vary multiple parameters at the same time, it would be harder for you to see the impact that each parameter has."
      ]
    },
    {
      "cell_type": "code",
      "execution_count": null,
      "metadata": {
        "id": "GCuTjNFwC2PB"
      },
      "outputs": [],
      "source": [
        "# number of hidden layers\n",
        "\n",
        "####################\n",
        "## YOUR CODE HERE ##\n",
        "####################\n",
        "\n",
        "# 4 hidden layers"
      ]
    },
    {
      "cell_type": "code",
      "execution_count": null,
      "metadata": {
        "id": "2UuF5XQDC2PB"
      },
      "outputs": [],
      "source": [
        "# number of neurons per each hidden layer\n",
        "\n",
        "####################\n",
        "## YOUR CODE HERE ##\n",
        "####################\n",
        "\n",
        "# 100 neurons"
      ]
    },
    {
      "cell_type": "code",
      "execution_count": null,
      "metadata": {
        "id": "lldWZHnFC2PC"
      },
      "outputs": [],
      "source": [
        "# activation function\n",
        "\n",
        "####################\n",
        "## YOUR CODE HERE ##\n",
        "####################\n",
        "\n",
        "# Use tanh instead of ReLU"
      ]
    },
    {
      "cell_type": "markdown",
      "metadata": {
        "id": "uqbuCfzjC2PC"
      },
      "source": [
        "**TODO Your answer here**\n",
        "\n",
        "1. How good do you get?\n",
        "2. Which hyper-parameter makes the largest difference?\n",
        "3. Does it always help to make your model bigger (i.e. wider / deeper)? Why not?\n",
        "\n",
        "**TODO Your answer here**\n"
      ]
    },
    {
      "cell_type": "markdown",
      "metadata": {
        "id": "FeMQ6uSiC2PD"
      },
      "source": [
        "**Your answers:**\n",
        "1. ..."
      ]
    },
    {
      "cell_type": "markdown",
      "metadata": {
        "id": "0buENZuzC2PD"
      },
      "source": [
        "# Subtask 2.9\n",
        "## Challenge\n",
        "#### TODO\n",
        "- If you choose your best values for number hidden units, number of layers and activation function that you determined by varying them independently above: Does performance improve? Why?\n",
        "- Vary all of the parameters at the same time to maximize the predictive performance of your model. How good do you get?"
      ]
    },
    {
      "cell_type": "code",
      "execution_count": null,
      "metadata": {
        "id": "ZgWXxSnlC2PD"
      },
      "outputs": [],
      "source": [
        "# Your best model:\n",
        "\n",
        "####################\n",
        "## YOUR CODE HERE ##\n",
        "####################"
      ]
    },
    {
      "cell_type": "markdown",
      "metadata": {
        "id": "W2KrIuJhC2PE"
      },
      "source": [
        "# Subtask 2.10\n",
        "## Evaluate your best model on test set, once!\n",
        "When doing a study, at the very end right before writing up your paper, you evaluate the best model you chose on the test set. This is the performance value you will report to the public.\n",
        "\n",
        "#### TODO\n",
        "- Evaluate the model on the testing dataset.\n",
        "- Plot the reference mass flow rate vs. the predicted values for the first 50 samples of the testing dataset."
      ]
    },
    {
      "cell_type": "code",
      "execution_count": null,
      "metadata": {
        "id": "ohxmHN7jC2PE"
      },
      "outputs": [],
      "source": [
        "# TODO evaluate the model\n",
        "####################\n",
        "## YOUR CODE HERE ##\n",
        "####################\n"
      ]
    },
    {
      "cell_type": "code",
      "execution_count": null,
      "metadata": {
        "id": "9fLJN21jC2PF"
      },
      "outputs": [],
      "source": [
        "# TODO plot results\n",
        "####################\n",
        "## YOUR CODE HERE ##\n",
        "####################\n",
        "\n",
        "y_pred = ...\n"
      ]
    },
    {
      "cell_type": "markdown",
      "metadata": {
        "id": "NN6VjcLoC2PF"
      },
      "source": [
        "**TODO Your answer here**\n",
        "\n",
        "1. Is the test loss of your model as good as the validation loss?\n",
        "2. If those values are different: How can you explain the difference?\n",
        "3. Why should you never use test set performance when trying out different hyper-parameters and architectures?\n",
        "\n",
        "**TODO Your answer here**\n",
        "\n"
      ]
    },
    {
      "cell_type": "markdown",
      "metadata": {
        "id": "ebqYoZwkC2PG"
      },
      "source": [
        "<span style='color:red'>**Your answer:**</span>\n",
        "\n",
        "1. ..."
      ]
    }
  ],
  "metadata": {
    "accelerator": "GPU",
    "colab": {
      "name": "Exercises1_2021.ipynb",
      "provenance": [],
      "gpuType": "T4",
      "include_colab_link": true
    },
    "kernelspec": {
      "display_name": "Python 3",
      "name": "python3"
    },
    "language_info": {
      "codemirror_mode": {
        "name": "ipython",
        "version": 3
      },
      "file_extension": ".py",
      "mimetype": "text/x-python",
      "name": "python",
      "nbconvert_exporter": "python",
      "pygments_lexer": "ipython3",
      "version": "3.9.18"
    },
    "nteract": {
      "version": "0.15.0"
    },
    "vscode": {
      "interpreter": {
        "hash": "062ad8061f6e7aca79bc9a27e986d47521568c0a72ae67729c623b905ab2cf31"
      }
    }
  },
  "nbformat": 4,
  "nbformat_minor": 0
}